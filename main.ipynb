{
 "cells": [
  {
   "cell_type": "code",
   "execution_count": 23,
   "metadata": {},
   "outputs": [],
   "source": [
    "import torch\n",
    "from torch import nn, Tensor\n",
    "import torch.nn.functional as F\n",
    "\n",
    "import numpy as np\n",
    "\n",
    "\n",
    "class FeedForwardNN(nn.Module):\n",
    "    '''\n",
    "        A standard two-hidden-layer Feed Forward Neural Network\n",
    "    '''\n",
    "    def __init__(self, in_dim: int, hidden_dim: int, out_dim: int, custom_init_behavior: bool = False, output_bias: Tensor = None) -> None:\n",
    "        '''\n",
    "            Initialize the network and set up the layers.\n",
    "\n",
    "            Parameters:\n",
    "                in_dim - input dimensions as an int\n",
    "                hidden_dim - hidden layer dimensions as an int\n",
    "                out_dim - output dimensions as an int\n",
    "                custom_init_behavior - boolean to reduce weights of last layer by 100 and add custom bias if given\n",
    "                output_bias - replace the last layer's bias with this value if custom_init_behavior is true\n",
    "\n",
    "            Return:\n",
    "                None\n",
    "        '''\n",
    "        super(FeedForwardNN, self).__init__()\n",
    "\n",
    "        self.fc1 = nn.Linear(in_dim, hidden_dim)\n",
    "        self.fc2 = nn.Linear(hidden_dim, hidden_dim)\n",
    "        self.fc3 = nn.Linear(hidden_dim, hidden_dim)\n",
    "        self.fc4 = nn.Linear(hidden_dim, out_dim)\n",
    "\n",
    "        if custom_init_behavior:\n",
    "            self.fc4.weight.data = self.fc4.weight.data / 100\n",
    "            if output_bias is not None:\n",
    "                self.fc4.bias.data = output_bias\n",
    "\n",
    "    def forward(self, obs: Tensor) -> Tensor:\n",
    "        '''\n",
    "            Runs a forward pass on the neural network\n",
    "\n",
    "            Parameters:\n",
    "                obs - observation to pass as input (either Tensor or converts to Tensor)\n",
    "\n",
    "            Return:\n",
    "                output - the output of the forward pass\n",
    "        '''\n",
    "        if not isinstance(obs, Tensor):\n",
    "            obs = torch.tensor(obs, dtype=torch.float)\n",
    "\n",
    "        activation1 = F.tanh(self.fc1(obs))\n",
    "        activation2 = F.tanh(self.fc2(activation1))\n",
    "        activation3 = F.tanh(self.fc3(activation2))\n",
    "        output = self.fc4(activation3)\n",
    "\n",
    "        return output"
   ]
  },
  {
   "cell_type": "code",
   "execution_count": 22,
   "metadata": {},
   "outputs": [
    {
     "name": "stdout",
     "output_type": "stream",
     "text": [
      "model.fc4.bias: tensor([-0.0898,  0.0250,  0.0651, -0.0432, -0.0453,  0.0802,  0.0067,  0.1089,\n",
      "        -0.0059, -0.0660, -0.0907,  0.0558,  0.0027, -0.0742, -0.0887, -0.1058,\n",
      "         0.0910,  0.0751, -0.0180,  0.1168,  0.1106, -0.0666])\n",
      "Means: tensor([-0.0897,  0.0248,  0.0639, -0.0442, -0.0444,  0.0791,  0.0074,  0.1071,\n",
      "        -0.0050, -0.0654, -0.0905,  0.0568,  0.0023, -0.0735, -0.0874, -0.1059,\n",
      "         0.0914,  0.0750, -0.0177,  0.1167,  0.1095, -0.0670])\n",
      "Std: tensor([0.0003, 0.0002, 0.0004, 0.0002, 0.0004, 0.0003, 0.0002, 0.0005, 0.0003,\n",
      "        0.0003, 0.0003, 0.0003, 0.0003, 0.0003, 0.0003, 0.0003, 0.0003, 0.0002,\n",
      "        0.0002, 0.0003, 0.0003, 0.0002])\n"
     ]
    }
   ],
   "source": [
    "model = FeedForwardNN(22, 64, 22, custom_init_behavior=True)\n",
    "\n",
    "print(\"model.fc4.bias:\", model.fc4.bias.data)\n",
    "\n",
    "outputs = []\n",
    "with torch.no_grad():\n",
    "    for _ in range(10000):\n",
    "        outputs.append(model(torch.rand((22))))\n",
    "\n",
    "outputs = torch.tensor(np.array(outputs))\n",
    "print(\"Means:\",outputs.mean(dim=0))\n",
    "print(\"Std:\", outputs.std(dim=0))"
   ]
  }
 ],
 "metadata": {
  "kernelspec": {
   "display_name": "venv",
   "language": "python",
   "name": "python3"
  },
  "language_info": {
   "codemirror_mode": {
    "name": "ipython",
    "version": 3
   },
   "file_extension": ".py",
   "mimetype": "text/x-python",
   "name": "python",
   "nbconvert_exporter": "python",
   "pygments_lexer": "ipython3",
   "version": "3.10.5"
  }
 },
 "nbformat": 4,
 "nbformat_minor": 2
}
